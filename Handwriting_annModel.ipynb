{
 "cells": [
  {
   "cell_type": "code",
   "execution_count": 40,
   "metadata": {
    "collapsed": true
   },
   "outputs": [],
   "source": [
    "#important imports\n",
    "import os\n",
    "import numpy as np\n",
    "import pandas as pd\n",
    "from scipy.misc import imread\n",
    "import imageio\n",
    "from sklearn.preprocessing import LabelEncoder\n",
    "import matplotlib.pyplot as plt\n",
    "%matplotlib inline\n",
    "from sklearn.model_selection import train_test_split"
   ]
  },
  {
   "cell_type": "code",
   "execution_count": 41,
   "metadata": {
    "collapsed": true
   },
   "outputs": [],
   "source": [
    "# keras imports for the dataset and building our neural network\n",
    "from keras.models import Sequential, load_model\n",
    "from keras.layers.core import Dense, Dropout, Activation\n",
    "from keras.utils import np_utils"
   ]
  },
  {
   "cell_type": "code",
   "execution_count": 69,
   "metadata": {},
   "outputs": [
    {
     "data": {
      "text/html": [
       "<div>\n",
       "<style scoped>\n",
       "    .dataframe tbody tr th:only-of-type {\n",
       "        vertical-align: middle;\n",
       "    }\n",
       "\n",
       "    .dataframe tbody tr th {\n",
       "        vertical-align: top;\n",
       "    }\n",
       "\n",
       "    .dataframe thead th {\n",
       "        text-align: right;\n",
       "    }\n",
       "</style>\n",
       "<table border=\"1\" class=\"dataframe\">\n",
       "  <thead>\n",
       "    <tr style=\"text-align: right;\">\n",
       "      <th></th>\n",
       "      <th>pixel_0000</th>\n",
       "      <th>pixel_0001</th>\n",
       "      <th>pixel_0002</th>\n",
       "      <th>pixel_0003</th>\n",
       "      <th>pixel_0004</th>\n",
       "      <th>pixel_0005</th>\n",
       "      <th>pixel_0006</th>\n",
       "      <th>pixel_0007</th>\n",
       "      <th>pixel_0008</th>\n",
       "      <th>pixel_0009</th>\n",
       "      <th>...</th>\n",
       "      <th>pixel_1015</th>\n",
       "      <th>pixel_1016</th>\n",
       "      <th>pixel_1017</th>\n",
       "      <th>pixel_1018</th>\n",
       "      <th>pixel_1019</th>\n",
       "      <th>pixel_1020</th>\n",
       "      <th>pixel_1021</th>\n",
       "      <th>pixel_1022</th>\n",
       "      <th>pixel_1023</th>\n",
       "      <th>character</th>\n",
       "    </tr>\n",
       "  </thead>\n",
       "  <tbody>\n",
       "    <tr>\n",
       "      <th>0</th>\n",
       "      <td>0</td>\n",
       "      <td>0</td>\n",
       "      <td>0</td>\n",
       "      <td>0</td>\n",
       "      <td>0</td>\n",
       "      <td>0</td>\n",
       "      <td>0</td>\n",
       "      <td>0</td>\n",
       "      <td>0</td>\n",
       "      <td>0</td>\n",
       "      <td>...</td>\n",
       "      <td>0</td>\n",
       "      <td>0</td>\n",
       "      <td>0</td>\n",
       "      <td>0</td>\n",
       "      <td>0</td>\n",
       "      <td>0</td>\n",
       "      <td>0</td>\n",
       "      <td>0</td>\n",
       "      <td>0</td>\n",
       "      <td>character_10_yna</td>\n",
       "    </tr>\n",
       "    <tr>\n",
       "      <th>1</th>\n",
       "      <td>0</td>\n",
       "      <td>0</td>\n",
       "      <td>0</td>\n",
       "      <td>0</td>\n",
       "      <td>0</td>\n",
       "      <td>0</td>\n",
       "      <td>0</td>\n",
       "      <td>0</td>\n",
       "      <td>0</td>\n",
       "      <td>0</td>\n",
       "      <td>...</td>\n",
       "      <td>0</td>\n",
       "      <td>0</td>\n",
       "      <td>0</td>\n",
       "      <td>0</td>\n",
       "      <td>0</td>\n",
       "      <td>0</td>\n",
       "      <td>0</td>\n",
       "      <td>0</td>\n",
       "      <td>0</td>\n",
       "      <td>character_10_yna</td>\n",
       "    </tr>\n",
       "    <tr>\n",
       "      <th>2</th>\n",
       "      <td>0</td>\n",
       "      <td>0</td>\n",
       "      <td>0</td>\n",
       "      <td>0</td>\n",
       "      <td>0</td>\n",
       "      <td>0</td>\n",
       "      <td>0</td>\n",
       "      <td>0</td>\n",
       "      <td>0</td>\n",
       "      <td>0</td>\n",
       "      <td>...</td>\n",
       "      <td>0</td>\n",
       "      <td>0</td>\n",
       "      <td>0</td>\n",
       "      <td>0</td>\n",
       "      <td>0</td>\n",
       "      <td>0</td>\n",
       "      <td>0</td>\n",
       "      <td>0</td>\n",
       "      <td>0</td>\n",
       "      <td>character_10_yna</td>\n",
       "    </tr>\n",
       "    <tr>\n",
       "      <th>3</th>\n",
       "      <td>0</td>\n",
       "      <td>0</td>\n",
       "      <td>0</td>\n",
       "      <td>0</td>\n",
       "      <td>0</td>\n",
       "      <td>0</td>\n",
       "      <td>0</td>\n",
       "      <td>0</td>\n",
       "      <td>0</td>\n",
       "      <td>0</td>\n",
       "      <td>...</td>\n",
       "      <td>0</td>\n",
       "      <td>0</td>\n",
       "      <td>0</td>\n",
       "      <td>0</td>\n",
       "      <td>0</td>\n",
       "      <td>0</td>\n",
       "      <td>0</td>\n",
       "      <td>0</td>\n",
       "      <td>0</td>\n",
       "      <td>character_10_yna</td>\n",
       "    </tr>\n",
       "    <tr>\n",
       "      <th>4</th>\n",
       "      <td>0</td>\n",
       "      <td>0</td>\n",
       "      <td>0</td>\n",
       "      <td>0</td>\n",
       "      <td>0</td>\n",
       "      <td>0</td>\n",
       "      <td>0</td>\n",
       "      <td>0</td>\n",
       "      <td>0</td>\n",
       "      <td>0</td>\n",
       "      <td>...</td>\n",
       "      <td>0</td>\n",
       "      <td>0</td>\n",
       "      <td>0</td>\n",
       "      <td>0</td>\n",
       "      <td>0</td>\n",
       "      <td>0</td>\n",
       "      <td>0</td>\n",
       "      <td>0</td>\n",
       "      <td>0</td>\n",
       "      <td>character_10_yna</td>\n",
       "    </tr>\n",
       "  </tbody>\n",
       "</table>\n",
       "<p>5 rows × 1025 columns</p>\n",
       "</div>"
      ],
      "text/plain": [
       "   pixel_0000  pixel_0001  pixel_0002  pixel_0003  pixel_0004  pixel_0005  \\\n",
       "0           0           0           0           0           0           0   \n",
       "1           0           0           0           0           0           0   \n",
       "2           0           0           0           0           0           0   \n",
       "3           0           0           0           0           0           0   \n",
       "4           0           0           0           0           0           0   \n",
       "\n",
       "   pixel_0006  pixel_0007  pixel_0008  pixel_0009        ...         \\\n",
       "0           0           0           0           0        ...          \n",
       "1           0           0           0           0        ...          \n",
       "2           0           0           0           0        ...          \n",
       "3           0           0           0           0        ...          \n",
       "4           0           0           0           0        ...          \n",
       "\n",
       "   pixel_1015  pixel_1016  pixel_1017  pixel_1018  pixel_1019  pixel_1020  \\\n",
       "0           0           0           0           0           0           0   \n",
       "1           0           0           0           0           0           0   \n",
       "2           0           0           0           0           0           0   \n",
       "3           0           0           0           0           0           0   \n",
       "4           0           0           0           0           0           0   \n",
       "\n",
       "   pixel_1021  pixel_1022  pixel_1023         character  \n",
       "0           0           0           0  character_10_yna  \n",
       "1           0           0           0  character_10_yna  \n",
       "2           0           0           0  character_10_yna  \n",
       "3           0           0           0  character_10_yna  \n",
       "4           0           0           0  character_10_yna  \n",
       "\n",
       "[5 rows x 1025 columns]"
      ]
     },
     "execution_count": 69,
     "metadata": {},
     "output_type": "execute_result"
    }
   ],
   "source": [
    "#Loading the data\n",
    "data = pd.read_csv(\"./train_all_data.csv\")\n",
    "data.head()"
   ]
  },
  {
   "cell_type": "code",
   "execution_count": 44,
   "metadata": {},
   "outputs": [
    {
     "data": {
      "text/html": [
       "<div>\n",
       "<style scoped>\n",
       "    .dataframe tbody tr th:only-of-type {\n",
       "        vertical-align: middle;\n",
       "    }\n",
       "\n",
       "    .dataframe tbody tr th {\n",
       "        vertical-align: top;\n",
       "    }\n",
       "\n",
       "    .dataframe thead th {\n",
       "        text-align: right;\n",
       "    }\n",
       "</style>\n",
       "<table border=\"1\" class=\"dataframe\">\n",
       "  <thead>\n",
       "    <tr style=\"text-align: right;\">\n",
       "      <th></th>\n",
       "      <th>pixel_0000</th>\n",
       "      <th>pixel_0001</th>\n",
       "      <th>pixel_0002</th>\n",
       "      <th>pixel_0003</th>\n",
       "      <th>pixel_0004</th>\n",
       "      <th>pixel_0005</th>\n",
       "      <th>pixel_0006</th>\n",
       "      <th>pixel_0007</th>\n",
       "      <th>pixel_0008</th>\n",
       "      <th>pixel_0009</th>\n",
       "      <th>...</th>\n",
       "      <th>pixel_1015</th>\n",
       "      <th>pixel_1016</th>\n",
       "      <th>pixel_1017</th>\n",
       "      <th>pixel_1018</th>\n",
       "      <th>pixel_1019</th>\n",
       "      <th>pixel_1020</th>\n",
       "      <th>pixel_1021</th>\n",
       "      <th>pixel_1022</th>\n",
       "      <th>pixel_1023</th>\n",
       "      <th>character</th>\n",
       "    </tr>\n",
       "  </thead>\n",
       "  <tbody>\n",
       "    <tr>\n",
       "      <th>10978</th>\n",
       "      <td>0</td>\n",
       "      <td>0</td>\n",
       "      <td>0</td>\n",
       "      <td>0</td>\n",
       "      <td>0</td>\n",
       "      <td>0</td>\n",
       "      <td>0</td>\n",
       "      <td>0</td>\n",
       "      <td>0</td>\n",
       "      <td>0</td>\n",
       "      <td>...</td>\n",
       "      <td>0</td>\n",
       "      <td>0</td>\n",
       "      <td>0</td>\n",
       "      <td>0</td>\n",
       "      <td>0</td>\n",
       "      <td>0</td>\n",
       "      <td>0</td>\n",
       "      <td>0</td>\n",
       "      <td>0</td>\n",
       "      <td>character_16_tabala</td>\n",
       "    </tr>\n",
       "    <tr>\n",
       "      <th>7614</th>\n",
       "      <td>0</td>\n",
       "      <td>0</td>\n",
       "      <td>0</td>\n",
       "      <td>0</td>\n",
       "      <td>0</td>\n",
       "      <td>0</td>\n",
       "      <td>0</td>\n",
       "      <td>0</td>\n",
       "      <td>0</td>\n",
       "      <td>0</td>\n",
       "      <td>...</td>\n",
       "      <td>0</td>\n",
       "      <td>0</td>\n",
       "      <td>0</td>\n",
       "      <td>0</td>\n",
       "      <td>0</td>\n",
       "      <td>0</td>\n",
       "      <td>0</td>\n",
       "      <td>0</td>\n",
       "      <td>0</td>\n",
       "      <td>character_14_dhaa</td>\n",
       "    </tr>\n",
       "    <tr>\n",
       "      <th>2107</th>\n",
       "      <td>0</td>\n",
       "      <td>0</td>\n",
       "      <td>0</td>\n",
       "      <td>0</td>\n",
       "      <td>0</td>\n",
       "      <td>0</td>\n",
       "      <td>0</td>\n",
       "      <td>0</td>\n",
       "      <td>0</td>\n",
       "      <td>0</td>\n",
       "      <td>...</td>\n",
       "      <td>0</td>\n",
       "      <td>0</td>\n",
       "      <td>0</td>\n",
       "      <td>0</td>\n",
       "      <td>0</td>\n",
       "      <td>0</td>\n",
       "      <td>0</td>\n",
       "      <td>0</td>\n",
       "      <td>0</td>\n",
       "      <td>character_11_taamatar</td>\n",
       "    </tr>\n",
       "    <tr>\n",
       "      <th>44074</th>\n",
       "      <td>0</td>\n",
       "      <td>0</td>\n",
       "      <td>0</td>\n",
       "      <td>0</td>\n",
       "      <td>0</td>\n",
       "      <td>0</td>\n",
       "      <td>0</td>\n",
       "      <td>0</td>\n",
       "      <td>0</td>\n",
       "      <td>0</td>\n",
       "      <td>...</td>\n",
       "      <td>0</td>\n",
       "      <td>0</td>\n",
       "      <td>0</td>\n",
       "      <td>0</td>\n",
       "      <td>0</td>\n",
       "      <td>0</td>\n",
       "      <td>0</td>\n",
       "      <td>0</td>\n",
       "      <td>0</td>\n",
       "      <td>character_33_ha</td>\n",
       "    </tr>\n",
       "    <tr>\n",
       "      <th>71037</th>\n",
       "      <td>0</td>\n",
       "      <td>0</td>\n",
       "      <td>0</td>\n",
       "      <td>0</td>\n",
       "      <td>0</td>\n",
       "      <td>0</td>\n",
       "      <td>0</td>\n",
       "      <td>0</td>\n",
       "      <td>0</td>\n",
       "      <td>0</td>\n",
       "      <td>...</td>\n",
       "      <td>0</td>\n",
       "      <td>0</td>\n",
       "      <td>0</td>\n",
       "      <td>0</td>\n",
       "      <td>0</td>\n",
       "      <td>0</td>\n",
       "      <td>0</td>\n",
       "      <td>0</td>\n",
       "      <td>0</td>\n",
       "      <td>digit_5</td>\n",
       "    </tr>\n",
       "  </tbody>\n",
       "</table>\n",
       "<p>5 rows × 1025 columns</p>\n",
       "</div>"
      ],
      "text/plain": [
       "       pixel_0000  pixel_0001  pixel_0002  pixel_0003  pixel_0004  pixel_0005  \\\n",
       "10978           0           0           0           0           0           0   \n",
       "7614            0           0           0           0           0           0   \n",
       "2107            0           0           0           0           0           0   \n",
       "44074           0           0           0           0           0           0   \n",
       "71037           0           0           0           0           0           0   \n",
       "\n",
       "       pixel_0006  pixel_0007  pixel_0008  pixel_0009          ...            \\\n",
       "10978           0           0           0           0          ...             \n",
       "7614            0           0           0           0          ...             \n",
       "2107            0           0           0           0          ...             \n",
       "44074           0           0           0           0          ...             \n",
       "71037           0           0           0           0          ...             \n",
       "\n",
       "       pixel_1015  pixel_1016  pixel_1017  pixel_1018  pixel_1019  pixel_1020  \\\n",
       "10978           0           0           0           0           0           0   \n",
       "7614            0           0           0           0           0           0   \n",
       "2107            0           0           0           0           0           0   \n",
       "44074           0           0           0           0           0           0   \n",
       "71037           0           0           0           0           0           0   \n",
       "\n",
       "       pixel_1021  pixel_1022  pixel_1023              character  \n",
       "10978           0           0           0    character_16_tabala  \n",
       "7614            0           0           0      character_14_dhaa  \n",
       "2107            0           0           0  character_11_taamatar  \n",
       "44074           0           0           0        character_33_ha  \n",
       "71037           0           0           0                digit_5  \n",
       "\n",
       "[5 rows x 1025 columns]"
      ]
     },
     "execution_count": 44,
     "metadata": {},
     "output_type": "execute_result"
    }
   ],
   "source": [
    "#shuffling\n",
    "from sklearn.utils import shuffle\n",
    "data = shuffle(data)\n",
    "data.head()"
   ]
  },
  {
   "cell_type": "code",
   "execution_count": 70,
   "metadata": {
    "collapsed": true
   },
   "outputs": [],
   "source": [
    "#convert label characters into label 0-int)\n",
    "data['character_class'] = LabelEncoder().fit_transform(data.character)\n",
    "data.drop('character', axis=1, inplace=True)\n",
    "data = data.astype(np.uint8)"
   ]
  },
  {
   "cell_type": "code",
   "execution_count": 73,
   "metadata": {},
   "outputs": [
    {
     "data": {
      "text/plain": [
       "0         0\n",
       "1         0\n",
       "2         0\n",
       "3         0\n",
       "4         0\n",
       "5         0\n",
       "6         0\n",
       "7         0\n",
       "8         0\n",
       "9         0\n",
       "10        0\n",
       "11        0\n",
       "12        0\n",
       "13        0\n",
       "14        0\n",
       "15        0\n",
       "16        0\n",
       "17        0\n",
       "18        0\n",
       "19        0\n",
       "20        0\n",
       "21        0\n",
       "22        0\n",
       "23        0\n",
       "24        0\n",
       "25        0\n",
       "26        0\n",
       "27        0\n",
       "28        0\n",
       "29        0\n",
       "         ..\n",
       "78170    45\n",
       "78171    45\n",
       "78172    45\n",
       "78173    45\n",
       "78174    45\n",
       "78175    45\n",
       "78176    45\n",
       "78177    45\n",
       "78178    45\n",
       "78179    45\n",
       "78180    45\n",
       "78181    45\n",
       "78182    45\n",
       "78183    45\n",
       "78184    45\n",
       "78185    45\n",
       "78186    45\n",
       "78187    45\n",
       "78188    45\n",
       "78189    45\n",
       "78190    45\n",
       "78191    45\n",
       "78192    45\n",
       "78193    45\n",
       "78194    45\n",
       "78195    45\n",
       "78196    45\n",
       "78197    45\n",
       "78198    45\n",
       "78199    45\n",
       "Name: character_class, Length: 78200, dtype: uint8"
      ]
     },
     "execution_count": 73,
     "metadata": {},
     "output_type": "execute_result"
    }
   ],
   "source": [
    "data['character_class']"
   ]
  },
  {
   "cell_type": "code",
   "execution_count": 46,
   "metadata": {},
   "outputs": [
    {
     "data": {
      "text/plain": [
       "(78200, 1025)"
      ]
     },
     "execution_count": 46,
     "metadata": {},
     "output_type": "execute_result"
    }
   ],
   "source": [
    "data.shape"
   ]
  },
  {
   "cell_type": "code",
   "execution_count": 47,
   "metadata": {},
   "outputs": [
    {
     "data": {
      "text/html": [
       "<div>\n",
       "<style scoped>\n",
       "    .dataframe tbody tr th:only-of-type {\n",
       "        vertical-align: middle;\n",
       "    }\n",
       "\n",
       "    .dataframe tbody tr th {\n",
       "        vertical-align: top;\n",
       "    }\n",
       "\n",
       "    .dataframe thead th {\n",
       "        text-align: right;\n",
       "    }\n",
       "</style>\n",
       "<table border=\"1\" class=\"dataframe\">\n",
       "  <thead>\n",
       "    <tr style=\"text-align: right;\">\n",
       "      <th></th>\n",
       "      <th>pixel_0000</th>\n",
       "      <th>pixel_0001</th>\n",
       "      <th>pixel_0002</th>\n",
       "      <th>pixel_0003</th>\n",
       "      <th>pixel_0004</th>\n",
       "      <th>pixel_0005</th>\n",
       "      <th>pixel_0006</th>\n",
       "      <th>pixel_0007</th>\n",
       "      <th>pixel_0008</th>\n",
       "      <th>pixel_0009</th>\n",
       "      <th>...</th>\n",
       "      <th>pixel_1015</th>\n",
       "      <th>pixel_1016</th>\n",
       "      <th>pixel_1017</th>\n",
       "      <th>pixel_1018</th>\n",
       "      <th>pixel_1019</th>\n",
       "      <th>pixel_1020</th>\n",
       "      <th>pixel_1021</th>\n",
       "      <th>pixel_1022</th>\n",
       "      <th>pixel_1023</th>\n",
       "      <th>character_class</th>\n",
       "    </tr>\n",
       "  </thead>\n",
       "  <tbody>\n",
       "    <tr>\n",
       "      <th>39547</th>\n",
       "      <td>0</td>\n",
       "      <td>0</td>\n",
       "      <td>0</td>\n",
       "      <td>0</td>\n",
       "      <td>0</td>\n",
       "      <td>0</td>\n",
       "      <td>0</td>\n",
       "      <td>0</td>\n",
       "      <td>0</td>\n",
       "      <td>0</td>\n",
       "      <td>...</td>\n",
       "      <td>0</td>\n",
       "      <td>0</td>\n",
       "      <td>0</td>\n",
       "      <td>0</td>\n",
       "      <td>0</td>\n",
       "      <td>0</td>\n",
       "      <td>0</td>\n",
       "      <td>0</td>\n",
       "      <td>0</td>\n",
       "      <td>23</td>\n",
       "    </tr>\n",
       "    <tr>\n",
       "      <th>24957</th>\n",
       "      <td>0</td>\n",
       "      <td>0</td>\n",
       "      <td>0</td>\n",
       "      <td>0</td>\n",
       "      <td>0</td>\n",
       "      <td>0</td>\n",
       "      <td>0</td>\n",
       "      <td>0</td>\n",
       "      <td>0</td>\n",
       "      <td>0</td>\n",
       "      <td>...</td>\n",
       "      <td>0</td>\n",
       "      <td>0</td>\n",
       "      <td>0</td>\n",
       "      <td>0</td>\n",
       "      <td>0</td>\n",
       "      <td>0</td>\n",
       "      <td>0</td>\n",
       "      <td>0</td>\n",
       "      <td>0</td>\n",
       "      <td>14</td>\n",
       "    </tr>\n",
       "    <tr>\n",
       "      <th>39601</th>\n",
       "      <td>0</td>\n",
       "      <td>0</td>\n",
       "      <td>0</td>\n",
       "      <td>0</td>\n",
       "      <td>0</td>\n",
       "      <td>0</td>\n",
       "      <td>0</td>\n",
       "      <td>0</td>\n",
       "      <td>0</td>\n",
       "      <td>0</td>\n",
       "      <td>...</td>\n",
       "      <td>0</td>\n",
       "      <td>0</td>\n",
       "      <td>0</td>\n",
       "      <td>0</td>\n",
       "      <td>0</td>\n",
       "      <td>0</td>\n",
       "      <td>0</td>\n",
       "      <td>0</td>\n",
       "      <td>0</td>\n",
       "      <td>23</td>\n",
       "    </tr>\n",
       "    <tr>\n",
       "      <th>69957</th>\n",
       "      <td>0</td>\n",
       "      <td>0</td>\n",
       "      <td>0</td>\n",
       "      <td>0</td>\n",
       "      <td>0</td>\n",
       "      <td>0</td>\n",
       "      <td>0</td>\n",
       "      <td>0</td>\n",
       "      <td>0</td>\n",
       "      <td>0</td>\n",
       "      <td>...</td>\n",
       "      <td>0</td>\n",
       "      <td>0</td>\n",
       "      <td>0</td>\n",
       "      <td>0</td>\n",
       "      <td>0</td>\n",
       "      <td>0</td>\n",
       "      <td>0</td>\n",
       "      <td>0</td>\n",
       "      <td>0</td>\n",
       "      <td>41</td>\n",
       "    </tr>\n",
       "    <tr>\n",
       "      <th>32247</th>\n",
       "      <td>0</td>\n",
       "      <td>0</td>\n",
       "      <td>0</td>\n",
       "      <td>0</td>\n",
       "      <td>0</td>\n",
       "      <td>0</td>\n",
       "      <td>0</td>\n",
       "      <td>0</td>\n",
       "      <td>0</td>\n",
       "      <td>0</td>\n",
       "      <td>...</td>\n",
       "      <td>0</td>\n",
       "      <td>0</td>\n",
       "      <td>0</td>\n",
       "      <td>0</td>\n",
       "      <td>0</td>\n",
       "      <td>0</td>\n",
       "      <td>0</td>\n",
       "      <td>0</td>\n",
       "      <td>0</td>\n",
       "      <td>18</td>\n",
       "    </tr>\n",
       "  </tbody>\n",
       "</table>\n",
       "<p>5 rows × 1025 columns</p>\n",
       "</div>"
      ],
      "text/plain": [
       "       pixel_0000  pixel_0001  pixel_0002  pixel_0003  pixel_0004  pixel_0005  \\\n",
       "39547           0           0           0           0           0           0   \n",
       "24957           0           0           0           0           0           0   \n",
       "39601           0           0           0           0           0           0   \n",
       "69957           0           0           0           0           0           0   \n",
       "32247           0           0           0           0           0           0   \n",
       "\n",
       "       pixel_0006  pixel_0007  pixel_0008  pixel_0009       ...         \\\n",
       "39547           0           0           0           0       ...          \n",
       "24957           0           0           0           0       ...          \n",
       "39601           0           0           0           0       ...          \n",
       "69957           0           0           0           0       ...          \n",
       "32247           0           0           0           0       ...          \n",
       "\n",
       "       pixel_1015  pixel_1016  pixel_1017  pixel_1018  pixel_1019  pixel_1020  \\\n",
       "39547           0           0           0           0           0           0   \n",
       "24957           0           0           0           0           0           0   \n",
       "39601           0           0           0           0           0           0   \n",
       "69957           0           0           0           0           0           0   \n",
       "32247           0           0           0           0           0           0   \n",
       "\n",
       "       pixel_1021  pixel_1022  pixel_1023  character_class  \n",
       "39547           0           0           0               23  \n",
       "24957           0           0           0               14  \n",
       "39601           0           0           0               23  \n",
       "69957           0           0           0               41  \n",
       "32247           0           0           0               18  \n",
       "\n",
       "[5 rows x 1025 columns]"
      ]
     },
     "execution_count": 47,
     "metadata": {},
     "output_type": "execute_result"
    }
   ],
   "source": [
    "data.tail()"
   ]
  },
  {
   "cell_type": "code",
   "execution_count": 48,
   "metadata": {
    "collapsed": true
   },
   "outputs": [],
   "source": [
    "X = (data.values[:,:-1]/255.0* 0.99) + 0.01\n",
    "y = data[\"character_class\"].values"
   ]
  },
  {
   "cell_type": "code",
   "execution_count": 49,
   "metadata": {},
   "outputs": [
    {
     "data": {
      "text/plain": [
       "(78200, 1024)"
      ]
     },
     "execution_count": 49,
     "metadata": {},
     "output_type": "execute_result"
    }
   ],
   "source": [
    "X.shape"
   ]
  },
  {
   "cell_type": "code",
   "execution_count": 50,
   "metadata": {},
   "outputs": [
    {
     "data": {
      "text/plain": [
       "(78200,)"
      ]
     },
     "execution_count": 50,
     "metadata": {},
     "output_type": "execute_result"
    }
   ],
   "source": [
    "y.shape"
   ]
  },
  {
   "cell_type": "code",
   "execution_count": 51,
   "metadata": {
    "collapsed": true
   },
   "outputs": [],
   "source": [
    "X_train, X_vald, y_train, y_vald = train_test_split(X, y, test_size=0.2,random_state=1000, stratify=y)"
   ]
  },
  {
   "cell_type": "code",
   "execution_count": 52,
   "metadata": {},
   "outputs": [
    {
     "name": "stdout",
     "output_type": "stream",
     "text": [
      "X_train shape (62560, 1024)\n",
      "X_vald shape (15640, 1024)\n",
      "y_train shape (62560,)\n",
      "y_vald shape (15640,)\n"
     ]
    }
   ],
   "source": [
    "print(\"X_train shape\",X_train.shape)\n",
    "print(\"X_vald shape\",X_vald.shape)\n",
    "print(\"y_train shape\",y_train.shape)\n",
    "print(\"y_vald shape\",y_vald.shape)"
   ]
  },
  {
   "cell_type": "code",
   "execution_count": 54,
   "metadata": {
    "collapsed": true
   },
   "outputs": [],
   "source": [
    "nb_classes = 46\n",
    "\n",
    "X_train = X_train.astype('float32')\n",
    "X_vald = X_vald.astype('float32')\n",
    "\n",
    "Y_train = np_utils.to_categorical(y_train, nb_classes)\n",
    "Y_vald = np_utils.to_categorical(y_vald, nb_classes)"
   ]
  },
  {
   "cell_type": "code",
   "execution_count": 55,
   "metadata": {},
   "outputs": [
    {
     "name": "stdout",
     "output_type": "stream",
     "text": [
      "X_train matrix shape: (62560, 1024)\n",
      "Number of train samples 62560\n",
      "number of vald samples 15640\n",
      "One hot encoding: [0. 0. 0. 0. 0. 0. 0. 0. 0. 0. 0. 0. 0. 1. 0. 0. 0. 0. 0. 0. 0. 0. 0. 0.\n",
      " 0. 0. 0. 0. 0. 0. 0. 0. 0. 0. 0. 0. 0. 0. 0. 0. 0. 0. 0. 0. 0. 0.]\n"
     ]
    }
   ],
   "source": [
    "print('X_train matrix shape:', X_train.shape)\n",
    "print('Number of train samples',X_train.shape[0])\n",
    "print('number of vald samples',X_vald.shape[0])\n",
    "print(\"One hot encoding: {}\".format(Y_train[0, :]))"
   ]
  },
  {
   "cell_type": "code",
   "execution_count": 56,
   "metadata": {},
   "outputs": [
    {
     "name": "stdout",
     "output_type": "stream",
     "text": [
      "Shape before one-hot encoding:  (62560,)\n",
      "Shape after one-hot encoding:  (62560, 46)\n"
     ]
    }
   ],
   "source": [
    "# one-hot encoding using keras' numpy-related utilities\n",
    "print(\"Shape before one-hot encoding: \", y_train.shape)\n",
    "\n",
    "print(\"Shape after one-hot encoding: \", Y_train.shape)"
   ]
  },
  {
   "cell_type": "code",
   "execution_count": 57,
   "metadata": {
    "collapsed": true
   },
   "outputs": [],
   "source": [
    "model = Sequential()\n",
    "model.add(Dense(600, input_shape=(1024,)))\n",
    "model.add(Activation('relu'))                            \n",
    "model.add(Dropout(0.2))\n",
    "\n",
    "model.add(Dense(600))\n",
    "model.add(Activation('relu'))\n",
    "model.add(Dropout(0.2))\n",
    "\n",
    "model.add(Dense(46))\n",
    "model.add(Activation('softmax'))"
   ]
  },
  {
   "cell_type": "code",
   "execution_count": 58,
   "metadata": {
    "collapsed": true
   },
   "outputs": [],
   "source": [
    "model.compile(loss='categorical_crossentropy', optimizer='adadelta',metrics=[\"accuracy\"])"
   ]
  },
  {
   "cell_type": "code",
   "execution_count": 59,
   "metadata": {},
   "outputs": [
    {
     "name": "stdout",
     "output_type": "stream",
     "text": [
      "Train on 62560 samples, validate on 15640 samples\n",
      "Epoch 1/30\n",
      " - 39s - loss: 1.3560 - acc: 0.6320 - val_loss: 0.7243 - val_acc: 0.8029\n",
      "Epoch 2/30\n",
      " - 24s - loss: 0.6504 - acc: 0.8164 - val_loss: 0.4709 - val_acc: 0.8702\n",
      "Epoch 3/30\n",
      " - 26s - loss: 0.4578 - acc: 0.8707 - val_loss: 0.3531 - val_acc: 0.8997\n",
      "Epoch 4/30\n",
      " - 24s - loss: 0.3500 - acc: 0.8988 - val_loss: 0.3050 - val_acc: 0.9132\n",
      "Epoch 5/30\n",
      " - 25s - loss: 0.2823 - acc: 0.9184 - val_loss: 0.2595 - val_acc: 0.9253\n",
      "Epoch 6/30\n",
      " - 26s - loss: 0.2374 - acc: 0.9311 - val_loss: 0.2405 - val_acc: 0.9285\n",
      "Epoch 7/30\n",
      " - 27s - loss: 0.2039 - acc: 0.9398 - val_loss: 0.2214 - val_acc: 0.9356\n",
      "Epoch 8/30\n",
      " - 25s - loss: 0.1776 - acc: 0.9477 - val_loss: 0.2021 - val_acc: 0.9409\n",
      "Epoch 9/30\n",
      " - 28s - loss: 0.1534 - acc: 0.9543 - val_loss: 0.2064 - val_acc: 0.9387\n",
      "Epoch 10/30\n",
      " - 25s - loss: 0.1357 - acc: 0.9589 - val_loss: 0.1924 - val_acc: 0.9433\n",
      "Epoch 11/30\n",
      " - 25s - loss: 0.1212 - acc: 0.9637 - val_loss: 0.1894 - val_acc: 0.9443\n",
      "Epoch 12/30\n",
      " - 25s - loss: 0.1084 - acc: 0.9679 - val_loss: 0.1867 - val_acc: 0.9455\n",
      "Epoch 13/30\n",
      " - 25s - loss: 0.0980 - acc: 0.9715 - val_loss: 0.1805 - val_acc: 0.9480\n",
      "Epoch 14/30\n",
      " - 26s - loss: 0.0881 - acc: 0.9731 - val_loss: 0.1796 - val_acc: 0.9490\n",
      "Epoch 15/30\n",
      " - 29s - loss: 0.0841 - acc: 0.9744 - val_loss: 0.1744 - val_acc: 0.9501\n",
      "Epoch 16/30\n",
      " - 26s - loss: 0.0733 - acc: 0.9776 - val_loss: 0.1715 - val_acc: 0.9515\n",
      "Epoch 17/30\n",
      " - 26s - loss: 0.0681 - acc: 0.9793 - val_loss: 0.1734 - val_acc: 0.9511\n",
      "Epoch 18/30\n",
      " - 28s - loss: 0.0642 - acc: 0.9804 - val_loss: 0.1665 - val_acc: 0.9529\n",
      "Epoch 19/30\n",
      " - 27s - loss: 0.0568 - acc: 0.9821 - val_loss: 0.1732 - val_acc: 0.9519\n",
      "Epoch 20/30\n",
      " - 28s - loss: 0.0567 - acc: 0.9824 - val_loss: 0.1681 - val_acc: 0.9531\n",
      "Epoch 21/30\n",
      " - 29s - loss: 0.0511 - acc: 0.9844 - val_loss: 0.1662 - val_acc: 0.9539\n",
      "Epoch 22/30\n",
      " - 28s - loss: 0.0481 - acc: 0.9852 - val_loss: 0.1686 - val_acc: 0.9546\n",
      "Epoch 23/30\n",
      " - 28s - loss: 0.0432 - acc: 0.9871 - val_loss: 0.1682 - val_acc: 0.9563\n",
      "Epoch 24/30\n",
      " - 30s - loss: 0.0415 - acc: 0.9871 - val_loss: 0.1715 - val_acc: 0.9556\n",
      "Epoch 25/30\n",
      " - 27s - loss: 0.0387 - acc: 0.9887 - val_loss: 0.1691 - val_acc: 0.9554\n",
      "Epoch 26/30\n",
      " - 33s - loss: 0.0379 - acc: 0.9884 - val_loss: 0.1650 - val_acc: 0.9552\n",
      "Epoch 27/30\n",
      " - 28s - loss: 0.0358 - acc: 0.9888 - val_loss: 0.1658 - val_acc: 0.9566\n",
      "Epoch 28/30\n",
      " - 27s - loss: 0.0350 - acc: 0.9893 - val_loss: 0.1662 - val_acc: 0.9554\n",
      "Epoch 29/30\n",
      " - 29s - loss: 0.0314 - acc: 0.9907 - val_loss: 0.1726 - val_acc: 0.9549\n",
      "Epoch 30/30\n",
      " - 29s - loss: 0.0312 - acc: 0.9903 - val_loss: 0.1719 - val_acc: 0.9567\n"
     ]
    }
   ],
   "source": [
    "callback = keras.callbacks.TensorBoard(log_dir='./logs', histogram_freq=0, batch_size=32, write_graph=True, write_grads=False, write_images=False, embeddings_freq=0, embeddings_layer_names=None, embeddings_metadata=None, embeddings_data=None)\n",
    "fit_model = model.fit(X_train, Y_train,\n",
    "          batch_size=100, epochs=30,\n",
    "          verbose=2,\n",
    "          validation_data=(X_vald, Y_vald),callbacks=callback)"
   ]
  },
  {
   "cell_type": "code",
   "execution_count": 60,
   "metadata": {},
   "outputs": [
    {
     "name": "stdout",
     "output_type": "stream",
     "text": [
      "15640/15640 [==============================] - 2s 142us/step\n"
     ]
    }
   ],
   "source": [
    "score = model.evaluate(X_vald, Y_vald, verbose=1)"
   ]
  },
  {
   "cell_type": "code",
   "execution_count": 61,
   "metadata": {},
   "outputs": [
    {
     "name": "stdout",
     "output_type": "stream",
     "text": [
      "Test loss: 0.17191249800743558\n",
      "Test accuracy: 0.9567135550177006\n"
     ]
    }
   ],
   "source": [
    "print('Test loss:', score[0])\n",
    "print('Test accuracy:', score[1])"
   ]
  },
  {
   "cell_type": "code",
   "execution_count": 62,
   "metadata": {},
   "outputs": [
    {
     "name": "stdout",
     "output_type": "stream",
     "text": [
      "Saved trained model at /home/nishan/fuse_training/model_all.h5 \n"
     ]
    }
   ],
   "source": [
    "# saving the model\n",
    "save_dir = \"/home/nishan/fuse_training\"\n",
    "model_name = 'model_all.h5'\n",
    "model_path = os.path.join(save_dir, model_name)\n",
    "model.save(model_path)\n",
    "print('Saved trained model at %s ' % model_path)"
   ]
  },
  {
   "cell_type": "code",
   "execution_count": 65,
   "metadata": {},
   "outputs": [
    {
     "data": {
      "image/png": "[encoded data removed]",
      "text/plain": [
       "<Figure size 432x288 with 1 Axes>"
      ]
     },
     "execution_count": 65,
     "metadata": {},
     "output_type": "execute_result"
    },
    {
     "data": {
      "image/png": "[encoded data removed]",
      "text/plain": [
       "<Figure size 432x288 with 1 Axes>"
      ]
     },
     "metadata": {},
     "output_type": "display_data"
    }
   ],
   "source": [
    "# plotting the metrics\n",
    "fig = plt.figure()\n",
    "plt.subplot(2,1,1)\n",
    "plt.plot(fit_model.history['acc'])\n",
    "plt.plot(fit_model.history['val_acc'])\n",
    "plt.title('model accuracy')\n",
    "plt.ylabel('accuracy')\n",
    "plt.xlabel('epoch')\n",
    "plt.legend(['train', 'validation'], loc='lower right')\n",
    "\n",
    "plt.tight_layout()\n",
    "\n",
    "fig"
   ]
  },
  {
   "cell_type": "code",
   "execution_count": 67,
   "metadata": {},
   "outputs": [
    {
     "name": "stdout",
     "output_type": "stream",
     "text": [
      "\n",
      "14963  classified correctly\n",
      "677  classified incorrectly\n"
     ]
    }
   ],
   "source": [
    "# load the model and create predictions on the test set\n",
    "our_model = load_model(\"/home/nishan/fuse_training/model_all.h5\")\n",
    "predicted_classes = our_model.predict_classes(X_vald)\n",
    "\n",
    "# see which we predicted correctly and which not\n",
    "correct_indices = np.nonzero(predicted_classes == y_vald)[0]\n",
    "incorrect_indices = np.nonzero(predicted_classes != y_vald)[0]\n",
    "print()\n",
    "print(len(correct_indices),\" classified correctly\")\n",
    "print(len(incorrect_indices),\" classified incorrectly\")"
   ]
  },
  {
   "cell_type": "code",
   "execution_count": null,
   "metadata": {
    "collapsed": true
   },
   "outputs": [],
   "source": [
    ""
   ]
  }
 ],
 "metadata": {
  "anaconda-cloud": {},
  "kernelspec": {
   "display_name": "Python [conda env:anaconda]",
   "language": "python",
   "name": "conda-env-anaconda-py"
  },
  "language_info": {
   "codemirror_mode": {
    "name": "ipython",
    "version": 3.0
   },
   "file_extension": ".py",
   "mimetype": "text/x-python",
   "name": "python",
   "nbconvert_exporter": "python",
   "pygments_lexer": "ipython3",
   "version": "3.5.4"
  }
 },
 "nbformat": 4,
 "nbformat_minor": 0
}